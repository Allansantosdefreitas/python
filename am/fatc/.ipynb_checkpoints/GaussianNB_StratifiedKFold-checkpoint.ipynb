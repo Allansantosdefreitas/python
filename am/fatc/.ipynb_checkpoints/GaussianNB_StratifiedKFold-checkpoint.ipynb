{
 "cells": [
  {
   "cell_type": "code",
   "execution_count": 12,
   "metadata": {},
   "outputs": [],
   "source": [
    "#From: https://scikit-learn.org/stable/modules/generated/sklearn.naive_bayes.GaussianNB.html\n",
    "import numpy as np\n",
    "from sklearn.naive_bayes import GaussianNB\n",
    "from sklearn.model_selection import StratifiedKFold"
   ]
  },
  {
   "cell_type": "code",
   "execution_count": 13,
   "metadata": {},
   "outputs": [
    {
     "name": "stdout",
     "output_type": "stream",
     "text": [
      "[[-1 -1]\n",
      " [-2 -1]\n",
      " [-3 -2]\n",
      " [ 1  1]\n",
      " [ 2  1]\n",
      " [ 3  2]]\n"
     ]
    }
   ],
   "source": [
    "X_train_original = np.array([[-1, -1], [-2, -1], [-3, -2], [1, 1], [2, 1], [3, 2]])  #training data (samples)\n",
    "\n",
    "print(X_train_original)"
   ]
  },
  {
   "cell_type": "code",
   "execution_count": 24,
   "metadata": {},
   "outputs": [
    {
     "data": {
      "text/plain": [
       "array([1, 1, 1, 2, 2, 2])"
      ]
     },
     "execution_count": 24,
     "metadata": {},
     "output_type": "execute_result"
    }
   ],
   "source": [
    "y_labeled = np.array([1, 1, 1, 2, 2, 2])  #labels of data (classes of data)\n",
    "y_labeled"
   ]
  },
  {
   "cell_type": "code",
   "execution_count": 15,
   "metadata": {},
   "outputs": [],
   "source": [
    "#Naive Bayes Classifier\n",
    "clf = GaussianNB()"
   ]
  },
  {
   "cell_type": "code",
   "execution_count": 16,
   "metadata": {},
   "outputs": [],
   "source": [
    "#  stratified KFold: For cross validation\n",
    "skf = StratifiedKFold(n_splits=2)"
   ]
  },
  {
   "cell_type": "code",
   "execution_count": 17,
   "metadata": {},
   "outputs": [
    {
     "data": {
      "text/plain": [
       "2"
      ]
     },
     "execution_count": 17,
     "metadata": {},
     "output_type": "execute_result"
    }
   ],
   "source": [
    "# Splitting train data in folds (2 folds)\n",
    "skf.get_n_splits(X_train_original, y_labeled)"
   ]
  },
  {
   "cell_type": "code",
   "execution_count": 23,
   "metadata": {},
   "outputs": [
    {
     "name": "stdout",
     "output_type": "stream",
     "text": [
      "TRAIN: [2 5] TEST: [0 1 3 4]\n",
      "X_train [[-3 -2]\n",
      " [ 3  2]]\n",
      "X_test [[-1 -1]\n",
      " [-2 -1]\n",
      " [ 1  1]\n",
      " [ 2  1]]\n",
      "---------------------------------------\n",
      "y_train [1 2]\n",
      "y_test [1 1 2 2]\n",
      "TRAIN: [0 1 3 4] TEST: [2 5]\n",
      "X_train [[-1 -1]\n",
      " [-2 -1]\n",
      " [ 1  1]\n",
      " [ 2  1]]\n",
      "X_test [[-3 -2]\n",
      " [ 3  2]]\n",
      "---------------------------------------\n",
      "y_train [1 1 2 2]\n",
      "y_test [1 2]\n"
     ]
    }
   ],
   "source": [
    "for train_index, test_index in skf.split(X_train_original, y_labeled):\n",
    "    print(\"TRAIN:\", train_index, \"TEST:\", test_index)  \n",
    "    \n",
    "    X_train, X_test = X_train_original[train_index], X_train_original[test_index]\n",
    "    print(\"X_train\", X_train)\n",
    "    print(\"X_test\", X_test)\n",
    "    \n",
    "    print('---------------------------------------')\n",
    "    # validation for train and test (same indexes of X_train and X_test, RESPECTIVAMENTE)\n",
    "    y_train, y_test = y_labeled[train_index], y_labeled[test_index]\n",
    "    print(\"y_train\", y_train)\n",
    "    print(\"y_test\", y_test)\n",
    " \n",
    "    "
   ]
  },
  {
   "cell_type": "code",
   "execution_count": null,
   "metadata": {},
   "outputs": [],
   "source": []
  },
  {
   "cell_type": "code",
   "execution_count": 5,
   "metadata": {},
   "outputs": [
    {
     "data": {
      "text/plain": [
       "GaussianNB(priors=None, var_smoothing=1e-09)"
      ]
     },
     "execution_count": 5,
     "metadata": {},
     "output_type": "execute_result"
    }
   ],
   "source": [
    "# Pode usar fit ou partial_fit\n",
    "clf.fit(X_train, Y_labeled)"
   ]
  },
  {
   "cell_type": "code",
   "execution_count": 17,
   "metadata": {},
   "outputs": [
    {
     "name": "stdout",
     "output_type": "stream",
     "text": [
      "predict [1]\n"
     ]
    }
   ],
   "source": [
    "print(\"predict\",clf.predict([[-3, 1]]))"
   ]
  },
  {
   "cell_type": "code",
   "execution_count": null,
   "metadata": {},
   "outputs": [],
   "source": []
  },
  {
   "cell_type": "code",
   "execution_count": null,
   "metadata": {},
   "outputs": [],
   "source": []
  },
  {
   "cell_type": "code",
   "execution_count": null,
   "metadata": {},
   "outputs": [],
   "source": []
  }
 ],
 "metadata": {
  "kernelspec": {
   "display_name": "Python 3",
   "language": "python",
   "name": "python3"
  },
  "language_info": {
   "codemirror_mode": {
    "name": "ipython",
    "version": 3
   },
   "file_extension": ".py",
   "mimetype": "text/x-python",
   "name": "python",
   "nbconvert_exporter": "python",
   "pygments_lexer": "ipython3",
   "version": "3.7.3"
  }
 },
 "nbformat": 4,
 "nbformat_minor": 2
}
