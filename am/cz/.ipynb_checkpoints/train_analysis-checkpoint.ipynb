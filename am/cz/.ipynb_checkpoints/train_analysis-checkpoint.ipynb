{
 "cells": [
  {
   "cell_type": "markdown",
   "metadata": {},
   "source": [
    "<h2>TRAIN.CSV</h2>\n",
    "\n",
    "<h4>14993 linhas e 24 colunas</h4>"
   ]
  },
  {
   "cell_type": "markdown",
   "metadata": {},
   "source": [
    "<h3>Data Fields</h3>\n",
    "<p><b>PetID -</b> Unique hash ID of pet profile</p>\n",
    "<p><b>AdoptionSpeed -</b> Categorical speed of adoption. Lower is faster. This is the value to predict. See below section for more info.</p>\n",
    "<hr>\n",
    "\n",
    "<p style=\"color:blue;\"><b>0 </b> Pet was adopted on the same day as it was listed</p> \n",
    "<p style=\"color:blue;\"><b>1 </b> Pet was adopted between 1 and 7 days (1st week) after being listed</p> \n",
    "<p style=\"color:blue;\"><b>2 </b> Pet was adopted between 8 and 30 days (1st month) after being listed</p> \n",
    "<p style=\"color:blue;\"><b>3 </b> Pet was adopted between 31 and 90 days (2nd & 3rd month) after being listed</p> \n",
    "<p style=\"color:blue;\"><b>4 </b> No adoption after 100 days of being listed</p> \n",
    "\n",
    "<p><b>(There are no pets in this dataset that waited between 90 and 100 days)</b></p>\n",
    "    \n",
    "<hr>\n",
    "<p><b>Type -</b> Type of animal (1 = Dog, 2 = Cat)</p>\n",
    "<p><b>Name -</b> Name of pet (Empty if not named)</p>\n",
    "<p><b>Age -</b> Age of pet when listed, in months</p>\n",
    "<p><b>Breed1 -</b> Primary breed of pet (Refer to BreedLabels dictionary)</p>\n",
    "<p><b>Breed2 -</b> Secondary breed of pet, if pet is of mixed breed (Refer to BreedLabels dictionary)</p>\n",
    "<p><b>Gender -</b> Gender of pet (1 = Male, 2 = Female, 3 = Mixed, if profile represents group of pets)</p>\n",
    "<p><b>Color1 -</b> Color 1 of pet (Refer to ColorLabels dictionary)</p>\n",
    "<p><b>Color2 -</b> Color 2 of pet (Refer to ColorLabels dictionary)</p>\n",
    "<p><b>Color3 -</b> Color 3 of pet (Refer to ColorLabels dictionary)</p>\n",
    "<p><b>MaturitySize -</b> Size at maturity (1 = Small, 2 = Medium, 3 = Large, 4 = Extra Large, 0 = Not Specified)</p>\n",
    "<p><b>FurLength -</b> Fur length (1 = Short, 2 = Medium, 3 = Long, 0 = Not Specified)</p>\n",
    "<p><b>Vaccinated -</b> Pet has been vaccinated (1 = Yes, 2 = No, 3 = Not Sure)</p>\n",
    "<p><b>Dewormed -</b> Pet has been dewormed (1 = Yes, 2 = No, 3 = Not Sure)</p>\n",
    "<p><b>Sterilized -</b> Pet has been spayed / neutered (1 = Yes, 2 = No, 3 = Not Sure)</p>\n",
    "<p><b>Health -</b> Health Condition (1 = Healthy, 2 = Minor Injury, 3 = Serious Injury, 0 = Not Specified)</p>\n",
    "<p><b>Quantity -</b> Number of pets represented in profile</p>\n",
    "<p><b>Fee -</b> Adoption fee (0 = Free)</p>\n",
    "<p><b>State -</b> State location in Malaysia (Refer to StateLabels dictionary)</p>\n",
    "<p><b>RescuerID -</b> Unique hash ID of rescuer</p>\n",
    "<p><b>VideoAmt -</b> Total uploaded videos for this pet</p>\n",
    "<p><b>PhotoAmt -</b> Total uploaded photos for this pet</p>\n",
    "<p><b>Description -</b> Profile write-</b>up for this pet. The primary language used is English, with some in Malay or Chinese.</p>"
   ]
  },
  {
   "cell_type": "code",
   "execution_count": 86,
   "metadata": {},
   "outputs": [],
   "source": [
    "import pandas as pd"
   ]
  },
  {
   "cell_type": "code",
   "execution_count": 132,
   "metadata": {},
   "outputs": [],
   "source": [
    "import matplotlib.pyplot as plt"
   ]
  },
  {
   "cell_type": "code",
   "execution_count": 133,
   "metadata": {},
   "outputs": [],
   "source": [
    "import numpy as np"
   ]
  },
  {
   "cell_type": "code",
   "execution_count": 14,
   "metadata": {},
   "outputs": [],
   "source": [
    "pd.set_option(\"display.max_columns\", 25)"
   ]
  },
  {
   "cell_type": "code",
   "execution_count": 15,
   "metadata": {},
   "outputs": [
    {
     "data": {
      "text/html": [
       "<div>\n",
       "<style scoped>\n",
       "    .dataframe tbody tr th:only-of-type {\n",
       "        vertical-align: middle;\n",
       "    }\n",
       "\n",
       "    .dataframe tbody tr th {\n",
       "        vertical-align: top;\n",
       "    }\n",
       "\n",
       "    .dataframe thead th {\n",
       "        text-align: right;\n",
       "    }\n",
       "</style>\n",
       "<table border=\"1\" class=\"dataframe\">\n",
       "  <thead>\n",
       "    <tr style=\"text-align: right;\">\n",
       "      <th></th>\n",
       "      <th>Type</th>\n",
       "      <th>Name</th>\n",
       "      <th>Age</th>\n",
       "      <th>Breed1</th>\n",
       "      <th>Breed2</th>\n",
       "      <th>Gender</th>\n",
       "      <th>Color1</th>\n",
       "      <th>Color2</th>\n",
       "      <th>Color3</th>\n",
       "      <th>MaturitySize</th>\n",
       "      <th>FurLength</th>\n",
       "      <th>Vaccinated</th>\n",
       "      <th>Dewormed</th>\n",
       "      <th>Sterilized</th>\n",
       "      <th>Health</th>\n",
       "      <th>Quantity</th>\n",
       "      <th>Fee</th>\n",
       "      <th>State</th>\n",
       "      <th>RescuerID</th>\n",
       "      <th>VideoAmt</th>\n",
       "      <th>Description</th>\n",
       "      <th>PetID</th>\n",
       "      <th>PhotoAmt</th>\n",
       "      <th>AdoptionSpeed</th>\n",
       "    </tr>\n",
       "  </thead>\n",
       "  <tbody>\n",
       "    <tr>\n",
       "      <th>4120</th>\n",
       "      <td>1</td>\n",
       "      <td>Roscoe</td>\n",
       "      <td>8</td>\n",
       "      <td>307</td>\n",
       "      <td>0</td>\n",
       "      <td>1</td>\n",
       "      <td>1</td>\n",
       "      <td>2</td>\n",
       "      <td>0</td>\n",
       "      <td>2</td>\n",
       "      <td>1</td>\n",
       "      <td>3</td>\n",
       "      <td>3</td>\n",
       "      <td>1</td>\n",
       "      <td>1</td>\n",
       "      <td>1</td>\n",
       "      <td>0</td>\n",
       "      <td>41326</td>\n",
       "      <td>aa66486163b6cbc25ea62a34b11c9b91</td>\n",
       "      <td>0</td>\n",
       "      <td>This lovely boy was wearing a black collar whe...</td>\n",
       "      <td>86d87d5f7</td>\n",
       "      <td>2.0</td>\n",
       "      <td>4</td>\n",
       "    </tr>\n",
       "    <tr>\n",
       "      <th>9727</th>\n",
       "      <td>1</td>\n",
       "      <td>Zone F1 A2</td>\n",
       "      <td>36</td>\n",
       "      <td>307</td>\n",
       "      <td>0</td>\n",
       "      <td>1</td>\n",
       "      <td>1</td>\n",
       "      <td>2</td>\n",
       "      <td>0</td>\n",
       "      <td>2</td>\n",
       "      <td>2</td>\n",
       "      <td>1</td>\n",
       "      <td>1</td>\n",
       "      <td>3</td>\n",
       "      <td>1</td>\n",
       "      <td>1</td>\n",
       "      <td>0</td>\n",
       "      <td>41326</td>\n",
       "      <td>37237ca3633d20c004ec76c0c2ddb4b7</td>\n",
       "      <td>0</td>\n",
       "      <td>I need a new home!! Contact Furry Friends Farm...</td>\n",
       "      <td>d202e4c9c</td>\n",
       "      <td>3.0</td>\n",
       "      <td>4</td>\n",
       "    </tr>\n",
       "    <tr>\n",
       "      <th>4966</th>\n",
       "      <td>1</td>\n",
       "      <td>Gigi</td>\n",
       "      <td>24</td>\n",
       "      <td>109</td>\n",
       "      <td>0</td>\n",
       "      <td>2</td>\n",
       "      <td>3</td>\n",
       "      <td>0</td>\n",
       "      <td>0</td>\n",
       "      <td>3</td>\n",
       "      <td>2</td>\n",
       "      <td>1</td>\n",
       "      <td>1</td>\n",
       "      <td>2</td>\n",
       "      <td>1</td>\n",
       "      <td>1</td>\n",
       "      <td>400</td>\n",
       "      <td>41401</td>\n",
       "      <td>bd591197957f4994a9741d700ee01b11</td>\n",
       "      <td>0</td>\n",
       "      <td>she so clever and smart....active dog.</td>\n",
       "      <td>e470b6bd3</td>\n",
       "      <td>24.0</td>\n",
       "      <td>3</td>\n",
       "    </tr>\n",
       "  </tbody>\n",
       "</table>\n",
       "</div>"
      ],
      "text/plain": [
       "      Type        Name  Age  Breed1  Breed2  Gender  Color1  Color2  Color3  \\\n",
       "4120     1      Roscoe    8     307       0       1       1       2       0   \n",
       "9727     1  Zone F1 A2   36     307       0       1       1       2       0   \n",
       "4966     1        Gigi   24     109       0       2       3       0       0   \n",
       "\n",
       "      MaturitySize  FurLength  Vaccinated  Dewormed  Sterilized  Health  \\\n",
       "4120             2          1           3         3           1       1   \n",
       "9727             2          2           1         1           3       1   \n",
       "4966             3          2           1         1           2       1   \n",
       "\n",
       "      Quantity  Fee  State                         RescuerID  VideoAmt  \\\n",
       "4120         1    0  41326  aa66486163b6cbc25ea62a34b11c9b91         0   \n",
       "9727         1    0  41326  37237ca3633d20c004ec76c0c2ddb4b7         0   \n",
       "4966         1  400  41401  bd591197957f4994a9741d700ee01b11         0   \n",
       "\n",
       "                                            Description      PetID  PhotoAmt  \\\n",
       "4120  This lovely boy was wearing a black collar whe...  86d87d5f7       2.0   \n",
       "9727  I need a new home!! Contact Furry Friends Farm...  d202e4c9c       3.0   \n",
       "4966             she so clever and smart....active dog.  e470b6bd3      24.0   \n",
       "\n",
       "      AdoptionSpeed  \n",
       "4120              4  \n",
       "9727              4  \n",
       "4966              3  "
      ]
     },
     "execution_count": 15,
     "metadata": {},
     "output_type": "execute_result"
    }
   ],
   "source": [
    "train = pd.read_csv('datasets/train.csv', delimiter=',')\n",
    "train.sample(3)"
   ]
  },
  {
   "cell_type": "code",
   "execution_count": 52,
   "metadata": {},
   "outputs": [
    {
     "data": {
      "text/plain": [
       "60"
      ]
     },
     "execution_count": 52,
     "metadata": {},
     "output_type": "execute_result"
    }
   ],
   "source": [
    "pd.options.display.max_rows"
   ]
  },
  {
   "cell_type": "code",
   "execution_count": 53,
   "metadata": {},
   "outputs": [
    {
     "data": {
      "text/plain": [
       "14993"
      ]
     },
     "execution_count": 53,
     "metadata": {},
     "output_type": "execute_result"
    }
   ],
   "source": [
    "total_pets = train.shape[0]\n",
    "total_pets"
   ]
  },
  {
   "cell_type": "code",
   "execution_count": 48,
   "metadata": {},
   "outputs": [],
   "source": [
    "#plots, mean, std, var e norm\n"
   ]
  },
  {
   "cell_type": "code",
   "execution_count": 114,
   "metadata": {},
   "outputs": [
    {
     "name": "stdout",
     "output_type": "stream",
     "text": [
      "pets adotados:  410\n",
      "% 2.7346094844260658\n"
     ]
    }
   ],
   "source": [
    "# VELOCIDADE DE ADOÇÃO -----------------------------------------------------------------------------------------------------\n",
    "#velocidade de adoção (0): no primeiro DIA (0)\n",
    "qtd_adoption_speed_0 = train.AdoptionSpeed[train.AdoptionSpeed == 0].count()\n",
    "percent_adoption_speed_0 = (qtd_adoption_speed_0 / total_pets) * 100\n",
    "\n",
    "print('pets adotados: ',qtd_adoption_speed_0)\n",
    "print('%', percent_adoption_speed_0)"
   ]
  },
  {
   "cell_type": "code",
   "execution_count": 115,
   "metadata": {},
   "outputs": [
    {
     "name": "stdout",
     "output_type": "stream",
     "text": [
      "pets adotados:  3090\n",
      "% 20.609617821650104\n"
     ]
    }
   ],
   "source": [
    "#velocidade de adoção (1): no primeira SEMANA (1 - 7)\n",
    "qtd_adoption_speed_1 = train.AdoptionSpeed[train.AdoptionSpeed == 1].count()\n",
    "percent_adoption_speed_1 = (qtd_adoption_speed_1 / total_pets) * 100\n",
    "print('pets adotados: ',qtd_adoption_speed_1)\n",
    "print('%', percent_adoption_speed_1)"
   ]
  },
  {
   "cell_type": "code",
   "execution_count": 116,
   "metadata": {},
   "outputs": [
    {
     "name": "stdout",
     "output_type": "stream",
     "text": [
      "pets adotados:  4037\n",
      "% 26.92589875275128\n"
     ]
    }
   ],
   "source": [
    "#velocidade de adoção(2):  8 - 30\n",
    "qtd_adoption_speed_2 = train.AdoptionSpeed[train.AdoptionSpeed == 2].count()\n",
    "percent_adoption_speed_2 = (qtd_adoption_speed_2 / total_pets) * 100\n",
    "print('pets adotados: ',qtd_adoption_speed_2)\n",
    "print('%', percent_adoption_speed_2)"
   ]
  },
  {
   "cell_type": "code",
   "execution_count": 117,
   "metadata": {},
   "outputs": [
    {
     "name": "stdout",
     "output_type": "stream",
     "text": [
      "pets adotados:  3259\n",
      "% 21.736810511572067\n"
     ]
    }
   ],
   "source": [
    "#velocidade de adoção(3):  31 - 90\n",
    "qtd_adoption_speed_3 = train.AdoptionSpeed[train.AdoptionSpeed == 3].count()\n",
    "percent_adoption_speed_3 = (qtd_adoption_speed_3 / total_pets) * 100\n",
    "print('pets adotados: ',qtd_adoption_speed_3)\n",
    "print('%', percent_adoption_speed_3)"
   ]
  },
  {
   "cell_type": "code",
   "execution_count": 119,
   "metadata": {},
   "outputs": [
    {
     "name": "stdout",
     "output_type": "stream",
     "text": [
      "pets adotados:  4197\n",
      "% 27.99306342960048\n"
     ]
    }
   ],
   "source": [
    "#velocidade de adoção(4):  + 100\n",
    "qtd_adoption_speed_4 = train.AdoptionSpeed[train.AdoptionSpeed == 4].count()\n",
    "percent_adoption_speed_4 = (qtd_adoption_speed_4 / total_pets) * 100\n",
    "print('pets adotados: ',qtd_adoption_speed_4)\n",
    "print('%', percent_adoption_speed_4)"
   ]
  },
  {
   "cell_type": "code",
   "execution_count": 124,
   "metadata": {},
   "outputs": [
    {
     "data": {
      "image/png": "[encoded data removed]",
      "text/plain": [
       "<Figure size 432x288 with 1 Axes>"
      ]
     },
     "metadata": {},
     "output_type": "display_data"
    }
   ],
   "source": [
    "#GRÁFICO ADOPTION SPEED \n",
    "\n",
    "labels_adoption_speed = '0 (dia 1)', '1 - 7','8 - 30', '31 - 90', '100+ (não adotados ainda)' \n",
    "sizes_adoption_speed = [qtd_adoption_speed_0, qtd_adoption_speed_1, qtd_adoption_speed_2, qtd_adoption_speed_3, qtd_adoption_speed_4]\n",
    "explode_adoption_speed = (0, 0, 0, 0, 0.1) \n",
    "\n",
    "fig_adoption_speed, ax_adoption_speed = plt.subplots()\n",
    "ax_adoption_speed.pie(sizes_adoption_speed, explode=explode_adoption_speed, labels=labels_adoption_speed, autopct='%1.1f%%',\n",
    "        shadow=True, startangle=90)\n",
    "ax_adoption_speed.axis('equal')  # Equal aspect ratio ensures that pie is drawn as a circle.\n",
    "\n",
    "plt.show()"
   ]
  },
  {
   "cell_type": "code",
   "execution_count": null,
   "metadata": {},
   "outputs": [],
   "source": [
    "# QUANTIDADE DE CÃES E GATOS -------------------------------------------------------------------------------------------"
   ]
  },
  {
   "cell_type": "code",
   "execution_count": 41,
   "metadata": {},
   "outputs": [
    {
     "data": {
      "text/plain": [
       "8132"
      ]
     },
     "execution_count": 41,
     "metadata": {},
     "output_type": "execute_result"
    }
   ],
   "source": [
    "#cães\n",
    "qtd_caes = train.Type[train.Type == 1].count()\n",
    "qtd_caes"
   ]
  },
  {
   "cell_type": "code",
   "execution_count": 39,
   "metadata": {},
   "outputs": [
    {
     "data": {
      "text/plain": [
       "6861"
      ]
     },
     "execution_count": 39,
     "metadata": {},
     "output_type": "execute_result"
    }
   ],
   "source": [
    "#gatos\n",
    "qtd_gatos = train.Type[train.Type == 2].count()\n",
    "qtd_gatos"
   ]
  },
  {
   "cell_type": "code",
   "execution_count": 105,
   "metadata": {},
   "outputs": [
    {
     "data": {
      "image/png": "[encoded data removed]",
      "text/plain": [
       "<Figure size 432x288 with 1 Axes>"
      ]
     },
     "metadata": {},
     "output_type": "display_data"
    }
   ],
   "source": [
    "#GRÁFICO: CÃES E GATOS\n",
    "# Pie chart, where the slices will be ordered and plotted counter-clockwise:\n",
    "labels2 = 'Cães', 'Gatos'\n",
    "sizes2 = [qtd_caes, qtd_gatos]\n",
    "explode2 = (0, 0.1)  # only \"explode\" the 2nd slice (i.e. 'Hogs')\n",
    "\n",
    "fig2, ax2 = plt.subplots()\n",
    "ax2.pie(sizes2, explode=explode2, labels=labels2, autopct='%1.1f%%',\n",
    "        shadow=True, startangle=90)\n",
    "ax2.axis('equal')  # Equal aspect ratio ensures that pie is drawn as a circle.\n",
    "\n",
    "plt.show()\n",
    "\n",
    "\n"
   ]
  },
  {
   "cell_type": "code",
   "execution_count": 111,
   "metadata": {},
   "outputs": [
    {
     "data": {
      "text/plain": [
       "10.452077636230241"
      ]
     },
     "execution_count": 111,
     "metadata": {},
     "output_type": "execute_result"
    }
   ],
   "source": [
    "# IDADE --------------------------------------------------------------------------------------------------------\n",
    "#Média de idade (meses)\n",
    "media_idade_geral = train.Age.mean()\n",
    "media_idade_geral"
   ]
  },
  {
   "cell_type": "code",
   "execution_count": 107,
   "metadata": {},
   "outputs": [
    {
     "data": {
      "text/plain": [
       "12.906173143138219"
      ]
     },
     "execution_count": 107,
     "metadata": {},
     "output_type": "execute_result"
    }
   ],
   "source": [
    "#Média de idade dos cães (meses)\n",
    "\n",
    "media_idade_caes = train.Age[train.Type == 1].mean()\n",
    "media_idade_caes"
   ]
  },
  {
   "cell_type": "code",
   "execution_count": 108,
   "metadata": {},
   "outputs": [
    {
     "data": {
      "text/plain": [
       "7.543361026089491"
      ]
     },
     "execution_count": 108,
     "metadata": {},
     "output_type": "execute_result"
    }
   ],
   "source": [
    "#Média de idade dos gatos (meses)\n",
    "media_idade_gatos = train.Age[train.Type == 2].mean()\n",
    "media_idade_gatos"
   ]
  },
  {
   "cell_type": "code",
   "execution_count": 109,
   "metadata": {},
   "outputs": [
    {
     "data": {
      "text/plain": [
       "21.25"
      ]
     },
     "execution_count": 109,
     "metadata": {},
     "output_type": "execute_result"
    }
   ],
   "source": [
    "#mais velho (anos)\n",
    "pet_mais_velho = train.Age.max() / 12\n",
    "pet_mais_velho"
   ]
  },
  {
   "cell_type": "code",
   "execution_count": 127,
   "metadata": {},
   "outputs": [
    {
     "data": {
      "text/plain": [
       "0"
      ]
     },
     "execution_count": 127,
     "metadata": {},
     "output_type": "execute_result"
    }
   ],
   "source": [
    "#mais novo (meses)\n",
    "pet_mais_novo = train.Age.min() \n",
    "pet_mais_novo"
   ]
  },
  {
   "cell_type": "code",
   "execution_count": null,
   "metadata": {},
   "outputs": [],
   "source": []
  },
  {
   "cell_type": "code",
   "execution_count": 138,
   "metadata": {},
   "outputs": [
    {
     "data": {
      "text/plain": [
       "Text(0.5, 0.98, 'Idades')"
      ]
     },
     "execution_count": 138,
     "metadata": {},
     "output_type": "execute_result"
    },
    {
     "data": {
      "image/png": "[encoded data removed]",
      "text/plain": [
       "<Figure size 648x216 with 3 Axes>"
      ]
     },
     "metadata": {
      "needs_background": "light"
     },
     "output_type": "display_data"
    }
   ],
   "source": [
    "#GRÁFICO DE IDADES\n",
    "data = {'apples': 10, 'oranges': 15, 'lemons': 5, 'limes': 20}\n",
    "\n",
    "names_idades_bar = list(train.Age)\n",
    "values_idades_bar = list(train.Age)\n",
    "\n",
    "fig_idades_bar, axs_idades_bar = plt.subplots(1, 3, figsize=(9, 3), sharey=True)\n",
    "axs_idades_bar[0].bar(names_idades_bar, values_idades_bar)\n",
    "\n",
    "fig_idades_bar.suptitle('Idades')"
   ]
  },
  {
   "cell_type": "code",
   "execution_count": 171,
   "metadata": {},
   "outputs": [
    {
     "data": {
      "text/plain": [
       "5536"
      ]
     },
     "execution_count": 171,
     "metadata": {},
     "output_type": "execute_result"
    }
   ],
   "source": [
    "#GENDER ------------------------------------------------------------------------------\n",
    "\n",
    "#macho\n",
    "total_macho = train.Gender[train.Gender ==1].count()\n",
    "total_macho"
   ]
  },
  {
   "cell_type": "code",
   "execution_count": 169,
   "metadata": {},
   "outputs": [
    {
     "data": {
      "text/plain": [
       "7277"
      ]
     },
     "execution_count": 169,
     "metadata": {},
     "output_type": "execute_result"
    }
   ],
   "source": [
    "#femea\n",
    "total_femea = train.Gender[train.Gender ==2].count()\n",
    "total_femea"
   ]
  },
  {
   "cell_type": "code",
   "execution_count": 172,
   "metadata": {},
   "outputs": [
    {
     "data": {
      "image/png": "[encoded data removed]",
      "text/plain": [
       "<Figure size 432x288 with 1 Axes>"
      ]
     },
     "metadata": {},
     "output_type": "display_data"
    }
   ],
   "source": [
    "#GRÁFICO MACHO E FEMEA\n",
    "labels_gender = 'Macho', 'Fêmea'\n",
    "sizes_gender = [total_macho, total_femea]\n",
    "explode_gender = (0, 0.1)  # only \"explode\" the 2nd slice (i.e. 'Hogs')\n",
    "\n",
    "fig_gender, ax_gender = plt.subplots()\n",
    "ax_gender.pie(sizes_gender, explode=explode_gender, labels=labels_gender, autopct='%1.1f%%',\n",
    "        shadow=True, startangle=90)\n",
    "ax_gender.axis('equal')  # Equal aspect ratio ensures that pie is drawn as a circle.\n",
    "\n",
    "plt.show()\n",
    "\n",
    "\n"
   ]
  },
  {
   "cell_type": "code",
   "execution_count": 88,
   "metadata": {},
   "outputs": [
    {
     "name": "stdout",
     "output_type": "stream",
     "text": [
      "total taxa grátis: 12663\n",
      "% 84.45941439338358\n"
     ]
    }
   ],
   "source": [
    "# FEE (TAXA DE ADOÇAÕ)--------------------------------------------------------------------------------------------------------\n",
    "#grátis\n",
    "qtd_fee_gratis = train.Fee[train.Fee == 0].count()\n",
    "percent_fee_gratis = (qtd_fee_gratis / total_pets) * 100\n",
    "print('total taxa grátis:',qtd_fee_gratis)\n",
    "print('%', percent_fee_gratis)\n",
    "\n"
   ]
  },
  {
   "cell_type": "code",
   "execution_count": 87,
   "metadata": {},
   "outputs": [
    {
     "name": "stdout",
     "output_type": "stream",
     "text": [
      "total taxa pago: 2330\n",
      "% 15.540585606616423\n"
     ]
    }
   ],
   "source": [
    "#pago\n",
    "qtd_fee_pago = train.Fee[train.Fee > 0].count()\n",
    "percent_fee_pago = (qtd_fee_pago / total_pets) * 100\n",
    "print('total taxa pago:',qtd_fee_pago)\n",
    "print('%', percent_fee_pago)\n"
   ]
  },
  {
   "cell_type": "code",
   "execution_count": 99,
   "metadata": {},
   "outputs": [
    {
     "data": {
      "image/png": "[encoded data removed]",
      "text/plain": [
       "<Figure size 432x288 with 1 Axes>"
      ]
     },
     "metadata": {},
     "output_type": "display_data"
    }
   ],
   "source": [
    "#GRÁFICO: PAGO E GRÁTIS\n",
    "# Pie chart, where the slices will be ordered and plotted counter-clockwise:\n",
    "labels = 'Grátis', 'Pago'\n",
    "sizes = [qtd_fee_gratis, qtd_fee_pago]\n",
    "explode = (0, 0.1)  # only \"explode\" the 2nd slice (i.e. 'Hogs')\n",
    "\n",
    "fig1, ax1 = plt.subplots()\n",
    "ax1.pie(sizes, explode=explode, labels=labels, autopct='%1.1f%%',\n",
    "        shadow=True, startangle=90)\n",
    "ax1.axis('equal')  # Equal aspect ratio ensures that pie is drawn as a circle.\n",
    "\n",
    "plt.show()\n"
   ]
  },
  {
   "cell_type": "code",
   "execution_count": null,
   "metadata": {},
   "outputs": [],
   "source": []
  },
  {
   "cell_type": "code",
   "execution_count": null,
   "metadata": {},
   "outputs": [],
   "source": []
  }
 ],
 "metadata": {
  "kernelspec": {
   "display_name": "Python 3",
   "language": "python",
   "name": "python3"
  },
  "language_info": {
   "codemirror_mode": {
    "name": "ipython",
    "version": 3
   },
   "file_extension": ".py",
   "mimetype": "text/x-python",
   "name": "python",
   "nbconvert_exporter": "python",
   "pygments_lexer": "ipython3",
   "version": "3.7.3"
  }
 },
 "nbformat": 4,
 "nbformat_minor": 2
}
